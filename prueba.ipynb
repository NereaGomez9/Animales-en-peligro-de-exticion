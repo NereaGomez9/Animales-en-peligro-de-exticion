{
 "cells": [
  {
   "cell_type": "code",
   "execution_count": 1,
   "id": "02c7fa8f",
   "metadata": {},
   "outputs": [
    {
     "name": "stdout",
     "output_type": "stream",
     "text": [
      "Requirement already satisfied: pygbif in c:\\users\\cex-laguna\\appdata\\local\\programs\\python\\python313\\lib\\site-packages (0.6.5)\n",
      "Requirement already satisfied: requests>2.7 in c:\\users\\cex-laguna\\appdata\\local\\programs\\python\\python313\\lib\\site-packages (from pygbif) (2.32.5)\n",
      "Requirement already satisfied: requests-cache in c:\\users\\cex-laguna\\appdata\\local\\programs\\python\\python313\\lib\\site-packages (from pygbif) (1.2.1)\n",
      "Requirement already satisfied: geojson_rewind in c:\\users\\cex-laguna\\appdata\\local\\programs\\python\\python313\\lib\\site-packages (from pygbif) (1.2.0)\n",
      "Requirement already satisfied: geomet in c:\\users\\cex-laguna\\appdata\\local\\programs\\python\\python313\\lib\\site-packages (from pygbif) (1.1.0)\n",
      "Requirement already satisfied: appdirs>=1.4.3 in c:\\users\\cex-laguna\\appdata\\local\\programs\\python\\python313\\lib\\site-packages (from pygbif) (1.4.4)\n",
      "Requirement already satisfied: matplotlib in c:\\users\\cex-laguna\\appdata\\local\\programs\\python\\python313\\lib\\site-packages (from pygbif) (3.10.7)\n",
      "Requirement already satisfied: charset_normalizer<4,>=2 in c:\\users\\cex-laguna\\appdata\\local\\programs\\python\\python313\\lib\\site-packages (from requests>2.7->pygbif) (3.4.3)\n",
      "Requirement already satisfied: idna<4,>=2.5 in c:\\users\\cex-laguna\\appdata\\local\\programs\\python\\python313\\lib\\site-packages (from requests>2.7->pygbif) (3.11)\n",
      "Requirement already satisfied: urllib3<3,>=1.21.1 in c:\\users\\cex-laguna\\appdata\\local\\programs\\python\\python313\\lib\\site-packages (from requests>2.7->pygbif) (2.5.0)\n",
      "Requirement already satisfied: certifi>=2017.4.17 in c:\\users\\cex-laguna\\appdata\\local\\programs\\python\\python313\\lib\\site-packages (from requests>2.7->pygbif) (2025.10.5)\n",
      "Requirement already satisfied: click in c:\\users\\cex-laguna\\appdata\\local\\programs\\python\\python313\\lib\\site-packages (from geomet->pygbif) (8.3.0)\n",
      "Requirement already satisfied: colorama in c:\\users\\cex-laguna\\appdata\\local\\programs\\python\\python313\\lib\\site-packages (from click->geomet->pygbif) (0.4.6)\n",
      "Requirement already satisfied: contourpy>=1.0.1 in c:\\users\\cex-laguna\\appdata\\local\\programs\\python\\python313\\lib\\site-packages (from matplotlib->pygbif) (1.3.3)\n",
      "Requirement already satisfied: cycler>=0.10 in c:\\users\\cex-laguna\\appdata\\local\\programs\\python\\python313\\lib\\site-packages (from matplotlib->pygbif) (0.12.1)\n",
      "Requirement already satisfied: fonttools>=4.22.0 in c:\\users\\cex-laguna\\appdata\\local\\programs\\python\\python313\\lib\\site-packages (from matplotlib->pygbif) (4.60.1)\n",
      "Requirement already satisfied: kiwisolver>=1.3.1 in c:\\users\\cex-laguna\\appdata\\local\\programs\\python\\python313\\lib\\site-packages (from matplotlib->pygbif) (1.4.9)\n",
      "Requirement already satisfied: numpy>=1.23 in c:\\users\\cex-laguna\\appdata\\local\\programs\\python\\python313\\lib\\site-packages (from matplotlib->pygbif) (2.2.6)\n",
      "Requirement already satisfied: packaging>=20.0 in c:\\users\\cex-laguna\\appdata\\local\\programs\\python\\python313\\lib\\site-packages (from matplotlib->pygbif) (25.0)\n",
      "Requirement already satisfied: pillow>=8 in c:\\users\\cex-laguna\\appdata\\local\\programs\\python\\python313\\lib\\site-packages (from matplotlib->pygbif) (12.0.0)\n",
      "Requirement already satisfied: pyparsing>=3 in c:\\users\\cex-laguna\\appdata\\local\\programs\\python\\python313\\lib\\site-packages (from matplotlib->pygbif) (3.2.5)\n",
      "Requirement already satisfied: python-dateutil>=2.7 in c:\\users\\cex-laguna\\appdata\\local\\programs\\python\\python313\\lib\\site-packages (from matplotlib->pygbif) (2.9.0.post0)\n",
      "Requirement already satisfied: six>=1.5 in c:\\users\\cex-laguna\\appdata\\local\\programs\\python\\python313\\lib\\site-packages (from python-dateutil>=2.7->matplotlib->pygbif) (1.17.0)\n",
      "Requirement already satisfied: attrs>=21.2 in c:\\users\\cex-laguna\\appdata\\local\\programs\\python\\python313\\lib\\site-packages (from requests-cache->pygbif) (25.4.0)\n",
      "Requirement already satisfied: cattrs>=22.2 in c:\\users\\cex-laguna\\appdata\\local\\programs\\python\\python313\\lib\\site-packages (from requests-cache->pygbif) (25.3.0)\n",
      "Requirement already satisfied: platformdirs>=2.5 in c:\\users\\cex-laguna\\appdata\\local\\programs\\python\\python313\\lib\\site-packages (from requests-cache->pygbif) (4.4.0)\n",
      "Requirement already satisfied: url-normalize>=1.4 in c:\\users\\cex-laguna\\appdata\\local\\programs\\python\\python313\\lib\\site-packages (from requests-cache->pygbif) (2.2.1)\n",
      "Requirement already satisfied: typing-extensions>=4.14.0 in c:\\users\\cex-laguna\\appdata\\local\\programs\\python\\python313\\lib\\site-packages (from cattrs>=22.2->requests-cache->pygbif) (4.15.0)\n"
     ]
    }
   ],
   "source": [
    "# Instalar la librería\n",
    "!pip install pygbif\n"
   ]
  },
  {
   "cell_type": "code",
   "execution_count": 2,
   "id": "9a0eeaa3",
   "metadata": {},
   "outputs": [],
   "source": [
    "from pygbif import occurrences as occ\n",
    "import pandas as pd\n",
    "\n",
    "# Buscar registros de especies en España\n",
    "espania = occ.search(country='ES', limit=300, hasCoordinate=True)\n",
    "# Buscar registros en Portugal\n",
    "portugal = occ.search(country='PT', limit=300, hasCoordinate=True)\n",
    "from pygbif import occurrences as occ\n",
    "import pandas as pd\n",
    "\n",
    "# Buscar registros de especies en España\n",
    "espania = occ.search(country='ES', limit=300, hasCoordinate=True)\n",
    "# Buscar registros en Portugal\n",
    "portugal = occ.search(country='PT', limit=300, hasCoordinate=True)\n"
   ]
  },
  {
   "cell_type": "code",
   "execution_count": 3,
   "id": "f3c15d85",
   "metadata": {},
   "outputs": [],
   "source": [
    "# Extraer resultados\n",
    "df_esp = pd.DataFrame(espania['results'])\n",
    "df_pt = pd.DataFrame(portugal['results'])\n",
    "\n",
    "# Concatenar ambos países\n",
    "df_gbif = pd.concat([df_esp, df_pt], ignore_index=True)\n"
   ]
  },
  {
   "cell_type": "code",
   "execution_count": 4,
   "id": "c2493d33",
   "metadata": {},
   "outputs": [
    {
     "name": "stdout",
     "output_type": "stream",
     "text": [
      "        nombre_cientifico  num_registros\n",
      "0     Platalea leucorodia             15\n",
      "1       Falco tinnunculus             11\n",
      "2        Egretta garzetta             11\n",
      "3       Pandion haliaetus             11\n",
      "4          Motacilla alba             10\n",
      "5  Phylloscopus collybita             10\n",
      "6       Saxicola rubicola              9\n",
      "7   Streptopelia decaocto              9\n",
      "8   Phoenicopterus roseus              8\n",
      "9     Porphyrio porphyrio              8\n"
     ]
    }
   ],
   "source": [
    "# Contar cuántos registros hay de cada especie\n",
    "num_especies = df_gbif['species'].value_counts().reset_index()\n",
    "num_especies.columns = ['nombre_cientifico', 'num_registros']\n",
    "\n",
    "# Mostrar los 10 primeros\n",
    "print(num_especies.head(10))\n"
   ]
  },
  {
   "cell_type": "code",
   "execution_count": 5,
   "id": "0139c5b7",
   "metadata": {},
   "outputs": [
    {
     "name": "stdout",
     "output_type": "stream",
     "text": [
      "DataFrame final con especies en peligro:\n",
      "  nombre_cientifico pais   categoria_amenaza  habitat  num_registros\n",
      "0     Lynx pardinus   ES  En Peligro Critico   Bosque           12.0\n",
      "1  Aquila adalberti   ES          En Peligro  Montaña           25.0\n",
      "2    Testudo graeca   ES          Vulnerable  Humedal            7.0\n",
      "3     Lynx pardinus   PT  En Peligro Critico   Bosque           12.0\n",
      "4    Testudo graeca   PT          Vulnerable  Humedal            7.0\n"
     ]
    }
   ],
   "source": [
    "# Importar librerías\n",
    "import pandas as pd\n",
    "\n",
    "# -----------------------------\n",
    "# 1️⃣ Cargar los datasets\n",
    "# -----------------------------\n",
    "# Aquí simulo los datasets; tú puedes usar pd.read_csv(), pd.read_excel() o datos de GBIF/WMS\n",
    "\n",
    "# Dataset GBIF (número de registros)\n",
    "data_gbif = {\n",
    "    'nombre_cientifico': ['Lynx pardinus', 'Aquila adalberti', 'Testudo graeca', 'Zebra'],\n",
    "    'num_registros': [12, 25, 7, 50],\n",
    "}\n",
    "df_gbif = pd.DataFrame(data_gbif)\n",
    "\n",
    "# Dataset MITECO (España)\n",
    "data_miteco = {\n",
    "    'nombre_cientifico': ['Lynx pardinus', 'Aquila adalberti', 'Testudo graeca', 'Zebra'],\n",
    "    'pais': ['ES', 'ES', 'ES', 'ES'],\n",
    "    'categoria_amenaza': ['En Peligro Critico', 'En Peligro', 'Vulnerable', 'No Amenazada'],\n",
    "    'habitat': ['Bosque', 'Montaña', 'Humedal', 'Sabana'],\n",
    "}\n",
    "df_miteco = pd.DataFrame(data_miteco)\n",
    "\n",
    "# Dataset Atlas Portugal\n",
    "data_portugal = {\n",
    "    'nombre_cientifico': ['Lynx pardinus', 'Testudo graeca', 'Phoenicopterus roseus'],\n",
    "    'pais': ['PT', 'PT', 'PT'],\n",
    "    'categoria_amenaza': ['En Peligro Critico', 'Vulnerable', 'No Amenazada'],\n",
    "    'habitat': ['Bosque', 'Humedal', 'Laguna'],\n",
    "}\n",
    "df_portugal = pd.DataFrame(data_portugal)\n",
    "\n",
    "# -----------------------------\n",
    "# 2️⃣ Unir los datasets\n",
    "# -----------------------------\n",
    "# Combinar MITECO y Atlas Portugal\n",
    "df_esp_pt = pd.concat([df_miteco, df_portugal], ignore_index=True)\n",
    "\n",
    "# Unir con GBIF por nombre_cientifico (izquierda: MITECO+Portugal)\n",
    "df_master = df_esp_pt.merge(df_gbif, on='nombre_cientifico', how='left')\n",
    "\n",
    "# -----------------------------\n",
    "# 3️⃣ Filtrar solo especies en peligro\n",
    "# -----------------------------\n",
    "categorias_peligro = ['En Peligro', 'En Peligro Critico', 'Vulnerable']\n",
    "df_peligro = df_master[df_master['categoria_amenaza'].isin(categorias_peligro)].reset_index(drop=True)\n",
    "\n",
    "# -----------------------------\n",
    "# 4️⃣ Resultado final\n",
    "# -----------------------------\n",
    "print(\"DataFrame final con especies en peligro:\")\n",
    "print(df_peligro)\n",
    "\n",
    "# -----------------------------\n",
    "# Opcional: guardar a CSV para análisis posterior\n",
    "# -----------------------------\n",
    "# df_peligro.to_csv('especies_en_peligro_ibérica.csv', index=False)\n"
   ]
  },
  {
   "cell_type": "code",
   "execution_count": 6,
   "id": "0c17dbfe",
   "metadata": {},
   "outputs": [
    {
     "name": "stdout",
     "output_type": "stream",
     "text": [
      "         nombre_cientifico  num_registros\n",
      "0      Platalea leucorodia             15\n",
      "1        Falco tinnunculus             11\n",
      "2         Egretta garzetta             11\n",
      "3        Pandion haliaetus             11\n",
      "4           Motacilla alba             10\n",
      "5   Phylloscopus collybita             10\n",
      "6        Saxicola rubicola              9\n",
      "7    Streptopelia decaocto              9\n",
      "8    Phoenicopterus roseus              8\n",
      "9      Porphyrio porphyrio              8\n",
      "10      Actitis hypoleucos              8\n",
      "11    Phoenicurus ochruros              7\n",
      "12      Circus aeruginosus              7\n",
      "13       Larus michahellis              7\n",
      "14      Erithacus rubecula              7\n",
      "15       Passer domesticus              7\n",
      "16        Tringa nebularia              6\n",
      "17      Hydroprogne caspia              6\n",
      "18   Himantopus himantopus              6\n",
      "19     Hieraaetus pennatus              6\n"
     ]
    }
   ],
   "source": [
    "from pygbif import occurrences as occ\n",
    "import pandas as pd\n",
    "\n",
    "# Descarga de registros para España\n",
    "espania = occ.search(country='ES', hasCoordinate=True, limit=1000)  # puedes aumentar limit\n",
    "df_esp = pd.DataFrame(espania['results'])\n",
    "\n",
    "# Descarga de registros para Portugal\n",
    "portugal = occ.search(country='PT', hasCoordinate=True, limit=1000)\n",
    "df_pt = pd.DataFrame(portugal['results'])\n",
    "\n",
    "# Combinar ambos países\n",
    "df_gbif = pd.concat([df_esp, df_pt], ignore_index=True)\n",
    "\n",
    "# Contar número de registros por especie\n",
    "num_especies = df_gbif['species'].value_counts().reset_index()\n",
    "num_especies.columns = ['nombre_cientifico', 'num_registros']\n",
    "\n",
    "print(num_especies.head(20))\n"
   ]
  },
  {
   "cell_type": "code",
   "execution_count": 7,
   "id": "c0d1fba3",
   "metadata": {},
   "outputs": [
    {
     "name": "stdout",
     "output_type": "stream",
     "text": [
      "Requirement already satisfied: lxml in c:\\users\\cex-laguna\\appdata\\local\\programs\\python\\python313\\lib\\site-packages (6.0.2)\n"
     ]
    }
   ],
   "source": [
    "!pip install lxml\n"
   ]
  },
  {
   "cell_type": "code",
   "execution_count": 8,
   "id": "0e2b184b",
   "metadata": {},
   "outputs": [
    {
     "name": "stdout",
     "output_type": "stream",
     "text": [
      "Se encontraron 1 tablas\n",
      "      scientific_name               common_name   taxonid category\n",
      "0     Azorina vidalii                       NaN    161816       EN\n",
      "1  Hydroporus guernei  Predacious diving beetle  97167384       EN\n",
      "2     Athous azoricus              Click beetle  97167398       EN\n",
      "3  Jasione lusitanica                       NaN    161853       EN\n",
      "4  Pterodroma madeira             Zino's Petrel  22698062       EN\n"
     ]
    }
   ],
   "source": [
    "import pandas as pd\n",
    "\n",
    "# URL de la página con la tabla\n",
    "url = \"https://worldrainforests.com/biodiversity/en/portugal/EN.html\"\n",
    "\n",
    "# Leer todas las tablas de la página\n",
    "tablas = pd.read_html(url)\n",
    "\n",
    "# Ver cuántas tablas se han detectado\n",
    "print(f\"Se encontraron {len(tablas)} tablas\")\n",
    "\n",
    "# Supongamos que la tabla que queremos es la primera\n",
    "df_portugal_web = tablas[0]\n",
    "\n",
    "# Revisar las primeras filas\n",
    "print(df_portugal_web.head())\n"
   ]
  },
  {
   "cell_type": "code",
   "execution_count": 9,
   "id": "8e3bd387",
   "metadata": {},
   "outputs": [
    {
     "name": "stdout",
     "output_type": "stream",
     "text": [
      "(100, 4)\n"
     ]
    }
   ],
   "source": [
    "print(df_portugal_web.shape)  # filas, columnas\n"
   ]
  },
  {
   "cell_type": "code",
   "execution_count": 10,
   "id": "ad8971c7",
   "metadata": {},
   "outputs": [
    {
     "name": "stdout",
     "output_type": "stream",
     "text": [
      "category\n",
      "EN    100\n",
      "Name: count, dtype: int64\n"
     ]
    }
   ],
   "source": [
    "print(df_portugal_web['category'].value_counts())  # cuántas EN, VU, CR, etc.\n"
   ]
  },
  {
   "cell_type": "code",
   "execution_count": 21,
   "id": "cebc5dbf",
   "metadata": {},
   "outputs": [
    {
     "name": "stdout",
     "output_type": "stream",
     "text": [
      "\n",
      "COLUMNAS REALES MITECO:\n",
      "\n",
      "['idtaxon', 'idnombre', 'ScientificName', 'taxonConceptID', 'ScientificNameID', 'nameAccordingto', 'namePublishedIn', 'namePublishedInYear', 'kingdom', 'phylum', 'class', 'order', 'family', 'genus', 'subgenus', 'specificepithet', 'infraspecificepithet', 'taxonRank', 'WithoutAutorship', 'ScientificNameAuthorship', 'taxonRemarks', 'Vernacular Name', 'Origen', 'Environment', 'Grupo taxonómico', 'LP Flora vascular', 'LP Hongos', 'LP Aves', 'LP Anfibios y Reptiles', 'LP Mamíferos', 'LP Peces continentales', 'LP Invertebrados', 'LP Especies Marinas', 'LP Briófitos']\n"
     ]
    }
   ],
   "source": [
    "import pandas as pd\n",
    "\n",
    "# Cargar uno de los archivos MITECO (por ejemplo el primero)\n",
    "df_test = pd.read_excel('lista-patron-especies-silvestres.xlsx')\n",
    "\n",
    "# Mostrar las columnas reales\n",
    "print(\"\\nCOLUMNAS REALES MITECO:\\n\")\n",
    "print(df_test.columns.tolist())\n"
   ]
  },
  {
   "cell_type": "code",
   "execution_count": 22,
   "id": "078f9834",
   "metadata": {},
   "outputs": [
    {
     "name": "stdout",
     "output_type": "stream",
     "text": [
      "\n",
      "COLUMNAS REALES PORTUGAL:\n",
      "\n",
      "['scientific_name', 'common_name', 'taxonid', 'category']\n"
     ]
    }
   ],
   "source": [
    "url = \"https://worldrainforests.com/biodiversity/en/portugal/EN.html\"\n",
    "tablas = pd.read_html(url)\n",
    "df_portugal = tablas[0]\n",
    "\n",
    "print(\"\\nCOLUMNAS REALES PORTUGAL:\\n\")\n",
    "print(df_portugal.columns.tolist())\n"
   ]
  },
  {
   "cell_type": "code",
   "execution_count": 23,
   "id": "adb11e54",
   "metadata": {},
   "outputs": [
    {
     "name": "stdout",
     "output_type": "stream",
     "text": [
      "✅ Total especies combinadas: 162919\n",
      "⚠️ Especies en peligro encontradas: 100\n",
      "\n",
      "Vista previa:\n",
      "\n",
      "                nombre_cientifico              nombre_comun grupo habitat  \\\n",
      "162811            Azorina vidalii                       NaN   NaN     NaN   \n",
      "162812         Hydroporus guernei  Predacious diving beetle   NaN     NaN   \n",
      "162813            Athous azoricus              Click beetle   NaN     NaN   \n",
      "162814         Jasione lusitanica                       NaN   NaN     NaN   \n",
      "162815         Pterodroma madeira             Zino's Petrel   NaN     NaN   \n",
      "162816  Micrurapteryx bistrigella                      Moth   NaN     NaN   \n",
      "162817          Tarphius azoricus           Ironclad Beetle   NaN     NaN   \n",
      "162818            Tuberaria major                       NaN   NaN     NaN   \n",
      "162819   Cheirolophus massonianus                       NaN   NaN     NaN   \n",
      "162820  Trigoniophthalmus borgesi              Bristletails   NaN     NaN   \n",
      "\n",
      "       pais      taxonid categoria_amenaza  latitud  longitud fecha_evento  \n",
      "162811   PT     161816.0                EN      NaN       NaN          NaN  \n",
      "162812   PT   97167384.0                EN      NaN       NaN          NaN  \n",
      "162813   PT   97167398.0                EN      NaN       NaN          NaN  \n",
      "162814   PT     161853.0                EN      NaN       NaN          NaN  \n",
      "162815   PT   22698062.0                EN      NaN       NaN          NaN  \n",
      "162816   PT   97237103.0                EN      NaN       NaN          NaN  \n",
      "162817   PT  112216190.0                EN      NaN       NaN          NaN  \n",
      "162818   PT     161921.0                EN      NaN       NaN          NaN  \n",
      "162819   PT     161930.0                EN      NaN       NaN          NaN  \n",
      "162820   PT   97493135.0                EN      NaN       NaN          NaN  \n"
     ]
    }
   ],
   "source": [
    "import pandas as pd\n",
    "\n",
    "# -------------------------------------------------\n",
    "# 1️⃣ Cargar los archivos de MITECO (España)\n",
    "# -------------------------------------------------\n",
    "archivos_miteco = [\n",
    "    'lista-patron-especies-silvestres-con-normativa.xlsx',\n",
    "    'lista-patron-especies-silvestres-con-sinonimos.xlsx',\n",
    "    'lista-patron-especies-silvestres-pasarela.xlsx',\n",
    "    'lista-patron-especies-silvestres.xlsx'\n",
    "]\n",
    "\n",
    "# Leer y unir todos los archivos\n",
    "dfs_miteco = [pd.read_excel(archivo) for archivo in archivos_miteco]\n",
    "df_miteco_master = pd.concat(dfs_miteco, ignore_index=True)\n",
    "\n",
    "# Normalizar columnas para tener consistencia\n",
    "df_miteco_master = df_miteco_master.rename(columns={\n",
    "    'ScientificName': 'nombre_cientifico',\n",
    "    'Vernacular Name': 'nombre_comun',\n",
    "    'Grupo taxonómico': 'grupo',\n",
    "    'Environment': 'habitat'\n",
    "})\n",
    "\n",
    "# Añadimos una columna de país\n",
    "df_miteco_master['pais'] = 'ES'\n",
    "\n",
    "# Seleccionamos solo las columnas que nos interesan\n",
    "df_miteco_master = df_miteco_master[[\n",
    "    'nombre_cientifico', 'nombre_comun', 'grupo', 'habitat', 'pais'\n",
    "]]\n",
    "\n",
    "# -------------------------------------------------\n",
    "# 2️⃣ Extraer tabla web de Portugal (World Rainforests)\n",
    "# -------------------------------------------------\n",
    "url = \"https://worldrainforests.com/biodiversity/en/portugal/EN.html\"\n",
    "tablas = pd.read_html(url)\n",
    "df_portugal = tablas[0]\n",
    "\n",
    "# Normalizar nombres de columnas\n",
    "df_portugal = df_portugal.rename(columns={\n",
    "    'scientific_name': 'nombre_cientifico',\n",
    "    'common_name': 'nombre_comun',\n",
    "    'category': 'categoria_amenaza'\n",
    "})\n",
    "df_portugal['pais'] = 'PT'\n",
    "\n",
    "# -------------------------------------------------\n",
    "# 3️⃣ Dataset GBIF (de ejemplo)\n",
    "# -------------------------------------------------\n",
    "df_gbif = pd.DataFrame({\n",
    "    'nombre_cientifico': [\n",
    "        'Lynx pardinus', 'Aquila adalberti', 'Testudo hermanni',\n",
    "        'Rana iberica', 'Salmo trutta', 'Ciconia nigra',\n",
    "        'Vipera seoanei', 'Emys orbicularis'\n",
    "    ],\n",
    "    'pais': ['ES','ES','ES','PT','ES','PT','ES','PT'],\n",
    "    'latitud': [38.5,39.0,41.0,40.5,42.0,43.0,42.5,41.5],\n",
    "    'longitud': [-3.5,-0.5,2.0,-6.0,-3.0,-1.0,-5.5,-4.0],\n",
    "    'fecha_evento': ['2023-01-15','2023-02-20','2023-03-10',\n",
    "                     '2023-01-25','2023-02-18','2023-03-05',\n",
    "                     '2023-01-30','2023-02-12']\n",
    "})\n",
    "\n",
    "# -------------------------------------------------\n",
    "# 4️⃣ Unir los tres datasets (España + Portugal + GBIF)\n",
    "# -------------------------------------------------\n",
    "df_master = pd.concat([df_miteco_master, df_portugal, df_gbif], ignore_index=True)\n",
    "\n",
    "# -------------------------------------------------\n",
    "# 5️⃣ Filtrar solo especies en peligro (categorías UICN)\n",
    "# -------------------------------------------------\n",
    "categorias_peligro = ['EN', 'VU', 'CR']\n",
    "df_en_peligro = df_master[df_master['categoria_amenaza'].isin(categorias_peligro)]\n",
    "\n",
    "# -------------------------------------------------\n",
    "# 6️⃣ Guardar o mostrar resumen\n",
    "# -------------------------------------------------\n",
    "print(\"✅ Total especies combinadas:\", len(df_master))\n",
    "print(\"⚠️ Especies en peligro encontradas:\", len(df_en_peligro))\n",
    "print(\"\\nVista previa:\\n\")\n",
    "print(df_en_peligro.head(10))\n"
   ]
  },
  {
   "cell_type": "code",
   "execution_count": 24,
   "id": "127b1c3f",
   "metadata": {},
   "outputs": [
    {
     "name": "stdout",
     "output_type": "stream",
     "text": [
      "\n",
      "🔎 Categorías de amenaza disponibles:\n",
      "categoria_amenaza\n",
      "No evaluado    68204\n",
      "EN               100\n",
      "Name: count, dtype: int64\n",
      "\n",
      "✅ DataFrame limpio guardado como 'especies_limpio.csv'\n"
     ]
    }
   ],
   "source": [
    "# -------------------------------------------------\n",
    "# 🧽 LIMPIEZA DEL DATAFRAME FINAL\n",
    "# -------------------------------------------------\n",
    "\n",
    "# 1️⃣ Quitar filas sin nombre científico\n",
    "df_master = df_master.dropna(subset=['nombre_cientifico'])\n",
    "\n",
    "# 2️⃣ Eliminar duplicados por nombre científico y país\n",
    "df_master = df_master.drop_duplicates(subset=['nombre_cientifico', 'pais'])\n",
    "\n",
    "# 3️⃣ Rellenar valores NaN con texto descriptivo\n",
    "df_master = df_master.fillna({\n",
    "    'nombre_comun': 'Desconocido',\n",
    "    'grupo': 'No especificado',\n",
    "    'habitat': 'No especificado',\n",
    "    'categoria_amenaza': 'No evaluado'\n",
    "})\n",
    "\n",
    "# 4️⃣ Quitar columnas innecesarias si existen\n",
    "columnas_a_eliminar = ['taxonid', 'latitud', 'longitud', 'fecha_evento']\n",
    "df_master = df_master.drop(columns=[c for c in columnas_a_eliminar if c in df_master.columns])\n",
    "\n",
    "# 5️⃣ Estandarizar texto\n",
    "df_master['nombre_cientifico'] = df_master['nombre_cientifico'].str.strip().str.capitalize()\n",
    "df_master['nombre_comun'] = df_master['nombre_comun'].str.strip().str.capitalize()\n",
    "\n",
    "# 6️⃣ Comprobar valores únicos de categoría\n",
    "print(\"\\n🔎 Categorías de amenaza disponibles:\")\n",
    "print(df_master['categoria_amenaza'].value_counts())\n",
    "\n",
    "# 7️⃣ Guardar limpio\n",
    "df_master.to_csv('especies_limpio.csv', index=False)\n",
    "print(\"\\n✅ DataFrame limpio guardado como 'especies_limpio.csv'\")\n"
   ]
  },
  {
   "cell_type": "code",
   "execution_count": 25,
   "id": "b2105b3d",
   "metadata": {},
   "outputs": [
    {
     "name": "stdout",
     "output_type": "stream",
     "text": [
      "⚠️ Especies en peligro o vulnerables: 100\n",
      "✅ Total de especies registradas: 68304\n",
      "📊 Porcentaje amenazadas: 0.15%\n"
     ]
    }
   ],
   "source": [
    "# Filtrar especies realmente amenazadas\n",
    "categorias_amenaza = ['EN', 'CR', 'VU', 'En peligro', 'Vulnerable', 'En peligro crítico']\n",
    "\n",
    "en_peligro = df_master[df_master['categoria_amenaza'].isin(categorias_amenaza)]\n",
    "\n",
    "print(f\"⚠️ Especies en peligro o vulnerables: {len(en_peligro)}\")\n",
    "print(f\"✅ Total de especies registradas: {len(df_master)}\")\n",
    "print(f\"📊 Porcentaje amenazadas: {(len(en_peligro)/len(df_master))*100:.2f}%\")\n"
   ]
  },
  {
   "cell_type": "code",
   "execution_count": 26,
   "id": "c07e46ba",
   "metadata": {},
   "outputs": [],
   "source": [
    "# Filtrar especies realmente amenazadas\n",
    "categorias_amenaza = ['EN', 'CR', 'VU', 'En peligro', 'Vulnerable', 'En peligro crítico']\n",
    "df_proyecto = df_master[df_master['categoria_amenaza'].isin(categorias_amenaza)].copy()\n",
    "\n",
    "# Guardar para usarlo después\n",
    "df_proyecto.to_csv('especies_proyecto.csv', index=False)\n"
   ]
  },
  {
   "cell_type": "code",
   "execution_count": 27,
   "id": "7d2fc1f4",
   "metadata": {},
   "outputs": [
    {
     "name": "stdout",
     "output_type": "stream",
     "text": [
      "pais\n",
      "PT    100\n",
      "Name: count, dtype: int64\n"
     ]
    }
   ],
   "source": [
    "print(df_proyecto['pais'].value_counts())\n"
   ]
  },
  {
   "cell_type": "code",
   "execution_count": 28,
   "id": "a7dda6b6",
   "metadata": {},
   "outputs": [
    {
     "name": "stdout",
     "output_type": "stream",
     "text": [
      "grupo\n",
      "No especificado    100\n",
      "Name: count, dtype: int64\n"
     ]
    }
   ],
   "source": [
    "print(df_proyecto['grupo'].value_counts())\n"
   ]
  },
  {
   "cell_type": "code",
   "execution_count": null,
   "id": "423d8cd8",
   "metadata": {},
   "outputs": [
    {
     "name": "stdout",
     "output_type": "stream",
     "text": [
      "\n",
      "🔍 Columnas del MITECO:\n",
      "['idtaxon', 'idnombre', 'ScientificName', 'Nombre en normativa', 'Normativa', 'Categoría', 'Observaciones población', 'Ámbito normativa', 'Año normativa', 'taxonConceptID', 'ScientificNameID', 'nameAccordingto', 'namePublishedIn', 'namePublishedInYear', 'kingdom', 'phylum', 'class', 'order', 'family', 'genus', 'subgenus', 'specificepithet', 'infraspecificepithet', 'taxonRank', 'WithoutAutorship', 'ScientificNameAuthorship', 'taxonRemarks', 'Vernacular Name', 'Origen', 'Environment', 'Grupo taxonómico', 'LP Flora vascular', 'LP Hongos', 'LP Aves', 'LP Anfibios y Reptiles', 'LP Mamíferos', 'LP Peces continentales', 'LP Invertebrados', 'LP Especies Marinas', 'LP Briófitos', 'idnombre_sinónimo', 'Sinónimo', 'Tipo sinonimia', 'Código RED NATURA', 'Código UICN']\n",
      "Columnas originales Portugal:\n",
      "['scientific_name', 'common_name', 'taxonid', 'category']\n",
      "\n",
      "✅ Especies en peligro o vulnerables:\n"
     ]
    },
    {
     "ename": "KeyError",
     "evalue": "\"['nombre_cientifico'] not in index\"",
     "output_type": "error",
     "traceback": [
      "\u001b[31m---------------------------------------------------------------------------\u001b[39m",
      "\u001b[31mKeyError\u001b[39m                                  Traceback (most recent call last)",
      "\u001b[36mCell\u001b[39m\u001b[36m \u001b[39m\u001b[32mIn[20]\u001b[39m\u001b[32m, line 124\u001b[39m\n\u001b[32m    121\u001b[39m df_peligro = df_master[df_master[\u001b[33m'\u001b[39m\u001b[33mcategoria_amenaza\u001b[39m\u001b[33m'\u001b[39m].isin(categorias_peligro)]\n\u001b[32m    123\u001b[39m \u001b[38;5;28mprint\u001b[39m(\u001b[33m\"\u001b[39m\u001b[38;5;130;01m\\n\u001b[39;00m\u001b[33m✅ Especies en peligro o vulnerables:\u001b[39m\u001b[33m\"\u001b[39m)\n\u001b[32m--> \u001b[39m\u001b[32m124\u001b[39m \u001b[38;5;28mprint\u001b[39m(\u001b[43mdf_peligro\u001b[49m\u001b[43m[\u001b[49m\u001b[43m[\u001b[49m\u001b[33;43m'\u001b[39;49m\u001b[33;43mnombre_cientifico\u001b[39;49m\u001b[33;43m'\u001b[39;49m\u001b[43m,\u001b[49m\u001b[43m \u001b[49m\u001b[33;43m'\u001b[39;49m\u001b[33;43mcategoria_amenaza\u001b[39;49m\u001b[33;43m'\u001b[39;49m\u001b[43m,\u001b[49m\u001b[43m \u001b[49m\u001b[33;43m'\u001b[39;49m\u001b[33;43mpais\u001b[39;49m\u001b[33;43m'\u001b[39;49m\u001b[43m]\u001b[49m\u001b[43m]\u001b[49m.head(\u001b[32m20\u001b[39m))\n\u001b[32m    126\u001b[39m \u001b[38;5;66;03m# ==========================================================\u001b[39;00m\n\u001b[32m    127\u001b[39m \u001b[38;5;66;03m# 6️⃣ Exportar a Excel final\u001b[39;00m\n\u001b[32m    128\u001b[39m \u001b[38;5;66;03m# ==========================================================\u001b[39;00m\n\u001b[32m    129\u001b[39m df_peligro.to_excel(\u001b[33m'\u001b[39m\u001b[33mespecies_en_peligro_ES_PT.xlsx\u001b[39m\u001b[33m'\u001b[39m, index=\u001b[38;5;28;01mFalse\u001b[39;00m)\n",
      "\u001b[36mFile \u001b[39m\u001b[32mc:\\Users\\CeX-Laguna\\AppData\\Local\\Programs\\Python\\Python313\\Lib\\site-packages\\pandas\\core\\frame.py:4113\u001b[39m, in \u001b[36mDataFrame.__getitem__\u001b[39m\u001b[34m(self, key)\u001b[39m\n\u001b[32m   4111\u001b[39m     \u001b[38;5;28;01mif\u001b[39;00m is_iterator(key):\n\u001b[32m   4112\u001b[39m         key = \u001b[38;5;28mlist\u001b[39m(key)\n\u001b[32m-> \u001b[39m\u001b[32m4113\u001b[39m     indexer = \u001b[38;5;28;43mself\u001b[39;49m\u001b[43m.\u001b[49m\u001b[43mcolumns\u001b[49m\u001b[43m.\u001b[49m\u001b[43m_get_indexer_strict\u001b[49m\u001b[43m(\u001b[49m\u001b[43mkey\u001b[49m\u001b[43m,\u001b[49m\u001b[43m \u001b[49m\u001b[33;43m\"\u001b[39;49m\u001b[33;43mcolumns\u001b[39;49m\u001b[33;43m\"\u001b[39;49m\u001b[43m)\u001b[49m[\u001b[32m1\u001b[39m]\n\u001b[32m   4115\u001b[39m \u001b[38;5;66;03m# take() does not accept boolean indexers\u001b[39;00m\n\u001b[32m   4116\u001b[39m \u001b[38;5;28;01mif\u001b[39;00m \u001b[38;5;28mgetattr\u001b[39m(indexer, \u001b[33m\"\u001b[39m\u001b[33mdtype\u001b[39m\u001b[33m\"\u001b[39m, \u001b[38;5;28;01mNone\u001b[39;00m) == \u001b[38;5;28mbool\u001b[39m:\n",
      "\u001b[36mFile \u001b[39m\u001b[32mc:\\Users\\CeX-Laguna\\AppData\\Local\\Programs\\Python\\Python313\\Lib\\site-packages\\pandas\\core\\indexes\\base.py:6212\u001b[39m, in \u001b[36mIndex._get_indexer_strict\u001b[39m\u001b[34m(self, key, axis_name)\u001b[39m\n\u001b[32m   6209\u001b[39m \u001b[38;5;28;01melse\u001b[39;00m:\n\u001b[32m   6210\u001b[39m     keyarr, indexer, new_indexer = \u001b[38;5;28mself\u001b[39m._reindex_non_unique(keyarr)\n\u001b[32m-> \u001b[39m\u001b[32m6212\u001b[39m \u001b[38;5;28;43mself\u001b[39;49m\u001b[43m.\u001b[49m\u001b[43m_raise_if_missing\u001b[49m\u001b[43m(\u001b[49m\u001b[43mkeyarr\u001b[49m\u001b[43m,\u001b[49m\u001b[43m \u001b[49m\u001b[43mindexer\u001b[49m\u001b[43m,\u001b[49m\u001b[43m \u001b[49m\u001b[43maxis_name\u001b[49m\u001b[43m)\u001b[49m\n\u001b[32m   6214\u001b[39m keyarr = \u001b[38;5;28mself\u001b[39m.take(indexer)\n\u001b[32m   6215\u001b[39m \u001b[38;5;28;01mif\u001b[39;00m \u001b[38;5;28misinstance\u001b[39m(key, Index):\n\u001b[32m   6216\u001b[39m     \u001b[38;5;66;03m# GH 42790 - Preserve name from an Index\u001b[39;00m\n",
      "\u001b[36mFile \u001b[39m\u001b[32mc:\\Users\\CeX-Laguna\\AppData\\Local\\Programs\\Python\\Python313\\Lib\\site-packages\\pandas\\core\\indexes\\base.py:6264\u001b[39m, in \u001b[36mIndex._raise_if_missing\u001b[39m\u001b[34m(self, key, indexer, axis_name)\u001b[39m\n\u001b[32m   6261\u001b[39m     \u001b[38;5;28;01mraise\u001b[39;00m \u001b[38;5;167;01mKeyError\u001b[39;00m(\u001b[33mf\u001b[39m\u001b[33m\"\u001b[39m\u001b[33mNone of [\u001b[39m\u001b[38;5;132;01m{\u001b[39;00mkey\u001b[38;5;132;01m}\u001b[39;00m\u001b[33m] are in the [\u001b[39m\u001b[38;5;132;01m{\u001b[39;00maxis_name\u001b[38;5;132;01m}\u001b[39;00m\u001b[33m]\u001b[39m\u001b[33m\"\u001b[39m)\n\u001b[32m   6263\u001b[39m not_found = \u001b[38;5;28mlist\u001b[39m(ensure_index(key)[missing_mask.nonzero()[\u001b[32m0\u001b[39m]].unique())\n\u001b[32m-> \u001b[39m\u001b[32m6264\u001b[39m \u001b[38;5;28;01mraise\u001b[39;00m \u001b[38;5;167;01mKeyError\u001b[39;00m(\u001b[33mf\u001b[39m\u001b[33m\"\u001b[39m\u001b[38;5;132;01m{\u001b[39;00mnot_found\u001b[38;5;132;01m}\u001b[39;00m\u001b[33m not in index\u001b[39m\u001b[33m\"\u001b[39m)\n",
      "\u001b[31mKeyError\u001b[39m: \"['nombre_cientifico'] not in index\""
     ]
    }
   ],
   "source": [
    "import pandas as pd\n",
    "\n",
    "archivos_miteco = [\n",
    "    'lista-patron-especies-silvestres-con-normativa.xlsx',\n",
    "    'lista-patron-especies-silvestres-con-sinonimos.xlsx',\n",
    "    'lista-patron-especies-silvestres-pasarela.xlsx',\n",
    "    'lista-patron-especies-silvestres.xlsx'\n",
    "]\n",
    "\n",
    "dfs_miteco = [pd.read_excel(archivo) for archivo in archivos_miteco]\n",
    "df_miteco_master = pd.concat(dfs_miteco, ignore_index=True)\n",
    "\n",
    "print(\"\\n🔍 Columnas del MITECO:\")\n",
    "print(df_miteco_master.columns.tolist())\n",
    "\n",
    "\n",
    "# Normalizar nombres de columnas\n",
    "# ⚠️ Ajusta los nombres de la izquierda si tus columnas difieren.\n",
    "df_miteco_master.rename(columns={\n",
    "    'Nombre científico': 'nombre_cientifico',\n",
    "    'Categoría': 'categoria_amenaza',\n",
    "    'Hábitat': 'habitat',\n",
    "    'Distribución': 'pais',\n",
    "    'Nombre común': 'nombre_comun'\n",
    "}, inplace=True)\n",
    "\n",
    "# Añadir país si no existe\n",
    "if 'pais' not in df_miteco_master.columns:\n",
    "    df_miteco_master['pais'] = 'ES'\n",
    "\n",
    "# ==========================================================\n",
    "# 2️⃣ Extraer tabla web de especies amenazadas en Portugal\n",
    "# ==========================================================\n",
    "url = \"https://worldrainforests.com/biodiversity/en/portugal/EN.html\"\n",
    "\n",
    "# Leer tablas desde la web (usa lxml o html5lib)\n",
    "tablas = pd.read_html(url)\n",
    "df_portugal_web = tablas[0]\n",
    "\n",
    "print(\"Columnas originales Portugal:\")\n",
    "print(df_portugal_web.columns.tolist())\n",
    "\n",
    "# Renombrar columnas para que coincidan con MITECO\n",
    "df_portugal_web.rename(columns={\n",
    "    'Scientific Name': 'nombre_cientifico',\n",
    "    'Common Name': 'nombre_comun',\n",
    "    'Category': 'categoria_amenaza'\n",
    "}, inplace=True)\n",
    "\n",
    "df_portugal_web['pais'] = 'PT'\n",
    "\n",
    "# ==========================================================\n",
    "# 3️⃣ Crear DataFrames complementarios (conservación)\n",
    "# =========================================================\n",
    "df_gbif = pd.DataFrame({\n",
    "    'scientificName': [\n",
    "        'Lynx pardinus','Aquila adalberti','Testudo hermanni',\n",
    "        'Rana iberica','Salmo trutta','Ciconia nigra',\n",
    "        'Vipera seoanei','Emys orbicularis'\n",
    "    ],\n",
    "    'country': ['ES','ES','ES','PT','ES','PT','ES','PT'],\n",
    "    'latitude': [38.5,39.0,41.0,40.5,42.0,43.0,42.5,41.5],\n",
    "    'longitude': [-3.5,-0.5,2.0,-6.0,-3.0,-1.0,-5.5,-4.0],\n",
    "    'eventDate': ['2023-01-15','2023-02-20','2023-03-10','2023-01-25',\n",
    "                  '2023-02-18','2023-03-05','2023-01-30','2023-02-12']\n",
    "})\n",
    "\n",
    "df_conservacion = pd.DataFrame({\n",
    "    'nombre_cientifico': [\n",
    "        'Lynx pardinus','Aquila adalberti','Testudo hermanni','Rana iberica',\n",
    "        'Salmo trutta','Ciconia nigra','Vipera seoanei','Emys orbicularis'\n",
    "    ],\n",
    "    'estado_conservacion': [\n",
    "        'En Peligro Crítico','En Peligro','Vulnerable','En Peligro',\n",
    "        'Preocupación menor','Vulnerable','Casi Amenazada','Vulnerable'\n",
    "    ],\n",
    "    'causa_amenaza': [\n",
    "        'Pérdida de hábitat','Caza ilegal','Destrucción de hábitat','Contaminación de ríos',\n",
    "        'Sobrepesca','Destrucción de humedales','Fragmentación de hábitat','Contaminación de aguas'\n",
    "    ]\n",
    "})\n",
    "\n",
    "df_habitat = pd.DataFrame({\n",
    "    'nombre_cientifico': [\n",
    "        'Lynx pardinus','Aquila adalberti','Testudo hermanni','Rana iberica',\n",
    "        'Salmo trutta','Ciconia nigra','Vipera seoanei','Emys orbicularis'\n",
    "    ],\n",
    "    'tipo_habitat': [\n",
    "        'Bosque mediterráneo','Montañas y bosques','Matorrales y zonas rocosas','Ríos y arroyos',\n",
    "        'Ríos y lagos','Bosques y humedales','Montañas y pastizales','Ríos y lagos'\n",
    "    ],\n",
    "    'area_protegida': [\n",
    "        'Parque Natural Sierra de Andújar','Parque Natural Cazorla','Parque Natural dels Ports',\n",
    "        'Parque Nacional Peneda-Gerês','Parque Nacional Picos de Europa','Parque Natural Montesinho',\n",
    "        'Parque Natural de Somiedo','Parque Nacional Doñana'\n",
    "    ]\n",
    "})\n",
    "\n",
    "df_grupo = pd.DataFrame({\n",
    "    'nombre_cientifico': [\n",
    "        'Lynx pardinus','Aquila adalberti','Testudo hermanni','Rana iberica',\n",
    "        'Salmo trutta','Ciconia nigra','Vipera seoanei','Emys orbicularis'\n",
    "    ],\n",
    "    'grupo': [\n",
    "        'Mamífero','Ave','Reptil','Anfibio','Pez','Ave','Reptil','Reptil'\n",
    "    ],\n",
    "    'dieta': [\n",
    "        'Carnívoro','Carnívoro','Herbívoro','Insectívoro','Omnívoro','Carnívoro','Carnívoro','Omnívoro'\n",
    "    ]\n",
    "})\n",
    "\n",
    "# ==========================================================\n",
    "# 4️⃣ Unir España + Portugal\n",
    "# ==========================================================\n",
    "df_master = pd.concat([df_miteco_master, df_portugal_web], ignore_index=True)\n",
    "\n",
    "# ==========================================================\n",
    "# 5️⃣ Filtrar solo especies en peligro o vulnerables\n",
    "# ==========================================================\n",
    "categorias_peligro = ['EN', 'VU', 'CR', 'Vulnerable', 'En Peligro', 'Critically Endangered']\n",
    "df_peligro = df_master[df_master['categoria_amenaza'].isin(categorias_peligro)]\n",
    "\n",
    "print(\"\\n✅ Especies en peligro o vulnerables:\")\n",
    "print(df_peligro[['nombre_cientifico', 'categoria_amenaza', 'pais']].head(20))\n",
    "\n",
    "# ==========================================================\n",
    "# 6️⃣ Exportar a Excel final\n",
    "# ==========================================================\n",
    "df_peligro.to_excel('especies_en_peligro_ES_PT.xlsx', index=False)\n",
    "print(\"\\n📁 Archivo exportado: especies_en_peligro_ES_PT.xlsx\")\n"
   ]
  },
  {
   "cell_type": "code",
   "execution_count": 16,
   "id": "349c6ea3",
   "metadata": {},
   "outputs": [],
   "source": [
    "categorias_peligro = ['EN', 'VU', 'CR']\n"
   ]
  },
  {
   "cell_type": "code",
   "execution_count": 17,
   "id": "60f17e0e",
   "metadata": {},
   "outputs": [
    {
     "name": "stdout",
     "output_type": "stream",
     "text": [
      "Todos los CSV ampliados se han guardado correctamente.\n"
     ]
    }
   ],
   "source": [
    "df_gbif.to_csv(\"gbif_animales.csv\", index=False)\n",
    "df_conservacion.to_csv(\"conservacion.csv\", index=False)\n",
    "df_habitat.to_csv(\"habitat.csv\", index=False)\n",
    "df_grupo.to_csv(\"grupo.csv\", index=False)\n",
    "\n",
    "print(\"Todos los CSV ampliados se han guardado correctamente.\")  # ajusta tu archivo si es necesario"
   ]
  },
  {
   "cell_type": "code",
   "execution_count": 18,
   "id": "4ce262f0",
   "metadata": {},
   "outputs": [
    {
     "name": "stdout",
     "output_type": "stream",
     "text": [
      "✅ Archivo final creado: especies_peligro_iberica.csv\n",
      "Total especies: 100\n",
      "Ejemplo de datos combinados:\n",
      "   idtaxon  idnombre ScientificName Nombre en normativa Normativa Categoría  \\\n",
      "0      NaN       NaN            NaN                 NaN       NaN       NaN   \n",
      "1      NaN       NaN            NaN                 NaN       NaN       NaN   \n",
      "2      NaN       NaN            NaN                 NaN       NaN       NaN   \n",
      "3      NaN       NaN            NaN                 NaN       NaN       NaN   \n",
      "4      NaN       NaN            NaN                 NaN       NaN       NaN   \n",
      "\n",
      "  Observaciones población Ámbito normativa  Año normativa taxonConceptID  ...  \\\n",
      "0                     NaN              NaN            NaN            NaN  ...   \n",
      "1                     NaN              NaN            NaN            NaN  ...   \n",
      "2                     NaN              NaN            NaN            NaN  ...   \n",
      "3                     NaN              NaN            NaN            NaN  ...   \n",
      "4                     NaN              NaN            NaN            NaN  ...   \n",
      "\n",
      "  country latitude longitude eventDate estado_conservacion causa_amenaza  \\\n",
      "0     NaN      NaN       NaN       NaN                 NaN           NaN   \n",
      "1     NaN      NaN       NaN       NaN                 NaN           NaN   \n",
      "2     NaN      NaN       NaN       NaN                 NaN           NaN   \n",
      "3     NaN      NaN       NaN       NaN                 NaN           NaN   \n",
      "4     NaN      NaN       NaN       NaN                 NaN           NaN   \n",
      "\n",
      "  tipo_habitat area_protegida grupo dieta  \n",
      "0          NaN            NaN   NaN   NaN  \n",
      "1          NaN            NaN   NaN   NaN  \n",
      "2          NaN            NaN   NaN   NaN  \n",
      "3          NaN            NaN   NaN   NaN  \n",
      "4          NaN            NaN   NaN   NaN  \n",
      "\n",
      "[5 rows x 61 columns]\n"
     ]
    }
   ],
   "source": [
    "# -----------------------------\n",
    "# 6️⃣ Filtrar especies amenazadas\n",
    "# -----------------------------\n",
    "df_peligro = df_master[df_master['categoria_amenaza'].isin(categorias_peligro)].reset_index(drop=True)\n",
    "\n",
    "# -----------------------------\n",
    "# 7️⃣ Unir con los otros DataFrames (GBIF, conservación, hábitat, grupo)\n",
    "# -----------------------------\n",
    "df_final = (\n",
    "    df_peligro\n",
    "    .merge(df_gbif, left_on='nombre_cientifico', right_on='scientificName', how='left')\n",
    "    .merge(df_conservacion, on='nombre_cientifico', how='left')\n",
    "    .merge(df_habitat, on='nombre_cientifico', how='left')\n",
    "    .merge(df_grupo, on='nombre_cientifico', how='left')\n",
    ")\n",
    "\n",
    "# -----------------------------\n",
    "# 8️⃣ Exportar resultado final\n",
    "# -----------------------------\n",
    "df_final.to_csv('especies_peligro_iberica.csv', index=False)\n",
    "\n",
    "# -----------------------------\n",
    "# 9️⃣ Resumen rápido\n",
    "# -----------------------------\n",
    "print(\"✅ Archivo final creado: especies_peligro_iberica.csv\")\n",
    "print(f\"Total especies: {len(df_final)}\")\n",
    "print(\"Ejemplo de datos combinados:\")\n",
    "print(df_final.head())\n"
   ]
  }
 ],
 "metadata": {
  "kernelspec": {
   "display_name": "Python 3",
   "language": "python",
   "name": "python3"
  },
  "language_info": {
   "codemirror_mode": {
    "name": "ipython",
    "version": 3
   },
   "file_extension": ".py",
   "mimetype": "text/x-python",
   "name": "python",
   "nbconvert_exporter": "python",
   "pygments_lexer": "ipython3",
   "version": "3.13.7"
  }
 },
 "nbformat": 4,
 "nbformat_minor": 5
}
